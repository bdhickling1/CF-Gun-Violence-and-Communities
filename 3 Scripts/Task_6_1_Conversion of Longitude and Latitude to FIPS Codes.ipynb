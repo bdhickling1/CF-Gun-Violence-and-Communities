{
 "cells": [
  {
   "cell_type": "markdown",
   "id": "7fe46898",
   "metadata": {},
   "source": [
    "# Task 6.1 Use shapefiles and geopandas to convert Latitude and Longitude to FIPS State/ County Codes"
   ]
  },
  {
   "cell_type": "markdown",
   "id": "6e3d3ab4",
   "metadata": {},
   "source": [
    "## Lat/ Long Conversion Script Contents"
   ]
  },
  {
   "cell_type": "markdown",
   "id": "e70c7fe6",
   "metadata": {},
   "source": [
    "__1. Install and import libraries, shapefile, and data sest for conversion__  \n",
    "__2. Convert latitude and longitude to FIPS Codes__  \n",
    "__2.1 Export revised data set__"
   ]
  },
  {
   "cell_type": "markdown",
   "id": "9f84d243",
   "metadata": {},
   "source": [
    "# 1.0 Install and import libraries for Lat and Long conversion"
   ]
  },
  {
   "cell_type": "code",
   "execution_count": 1,
   "id": "3b6ca01b",
   "metadata": {},
   "outputs": [
    {
     "name": "stdout",
     "output_type": "stream",
     "text": [
      "Requirement already satisfied: geopandas in /Users/brucehickling/opt/anaconda3/lib/python3.9/site-packages (0.13.0)\n",
      "Requirement already satisfied: packaging in /Users/brucehickling/opt/anaconda3/lib/python3.9/site-packages (from geopandas) (21.3)\n",
      "Requirement already satisfied: pandas>=1.1.0 in /Users/brucehickling/opt/anaconda3/lib/python3.9/site-packages (from geopandas) (1.4.4)\n",
      "Requirement already satisfied: fiona>=1.8.19 in /Users/brucehickling/opt/anaconda3/lib/python3.9/site-packages (from geopandas) (1.9.3)\n",
      "Requirement already satisfied: shapely>=1.7.1 in /Users/brucehickling/opt/anaconda3/lib/python3.9/site-packages (from geopandas) (2.0.1)\n",
      "Requirement already satisfied: pyproj>=3.0.1 in /Users/brucehickling/opt/anaconda3/lib/python3.9/site-packages (from geopandas) (3.5.0)\n",
      "Requirement already satisfied: click~=8.0 in /Users/brucehickling/opt/anaconda3/lib/python3.9/site-packages (from fiona>=1.8.19->geopandas) (8.0.4)\n",
      "Requirement already satisfied: importlib-metadata in /Users/brucehickling/opt/anaconda3/lib/python3.9/site-packages (from fiona>=1.8.19->geopandas) (4.11.3)\n",
      "Requirement already satisfied: munch>=2.3.2 in /Users/brucehickling/opt/anaconda3/lib/python3.9/site-packages (from fiona>=1.8.19->geopandas) (3.0.0)\n",
      "Requirement already satisfied: certifi in /Users/brucehickling/opt/anaconda3/lib/python3.9/site-packages (from fiona>=1.8.19->geopandas) (2022.9.24)\n",
      "Requirement already satisfied: click-plugins>=1.0 in /Users/brucehickling/opt/anaconda3/lib/python3.9/site-packages (from fiona>=1.8.19->geopandas) (1.1.1)\n",
      "Requirement already satisfied: attrs>=19.2.0 in /Users/brucehickling/opt/anaconda3/lib/python3.9/site-packages (from fiona>=1.8.19->geopandas) (21.4.0)\n",
      "Requirement already satisfied: cligj>=0.5 in /Users/brucehickling/opt/anaconda3/lib/python3.9/site-packages (from fiona>=1.8.19->geopandas) (0.7.2)\n",
      "Requirement already satisfied: python-dateutil>=2.8.1 in /Users/brucehickling/opt/anaconda3/lib/python3.9/site-packages (from pandas>=1.1.0->geopandas) (2.8.2)\n",
      "Requirement already satisfied: pytz>=2020.1 in /Users/brucehickling/opt/anaconda3/lib/python3.9/site-packages (from pandas>=1.1.0->geopandas) (2022.1)\n",
      "Requirement already satisfied: numpy>=1.20.0 in /Users/brucehickling/opt/anaconda3/lib/python3.9/site-packages (from pandas>=1.1.0->geopandas) (1.21.5)\n",
      "Requirement already satisfied: pyparsing!=3.0.5,>=2.0.2 in /Users/brucehickling/opt/anaconda3/lib/python3.9/site-packages (from packaging->geopandas) (3.0.9)\n",
      "Requirement already satisfied: six in /Users/brucehickling/opt/anaconda3/lib/python3.9/site-packages (from munch>=2.3.2->fiona>=1.8.19->geopandas) (1.16.0)\n",
      "Requirement already satisfied: zipp>=0.5 in /Users/brucehickling/opt/anaconda3/lib/python3.9/site-packages (from importlib-metadata->fiona>=1.8.19->geopandas) (3.8.0)\n",
      "Note: you may need to restart the kernel to use updated packages.\n"
     ]
    }
   ],
   "source": [
    "# Install geopandas\n",
    "pip install geopandas"
   ]
  },
  {
   "cell_type": "code",
   "execution_count": 1,
   "id": "02c0e56b",
   "metadata": {},
   "outputs": [],
   "source": [
    "# Import libraries\n",
    "import pandas as pd\n",
    "import geopandas as gpd\n",
    "from shapely.geometry import Point"
   ]
  },
  {
   "cell_type": "markdown",
   "id": "0345965d",
   "metadata": {},
   "source": [
    "## 1.1 Import and load shapefiles for States and Counties"
   ]
  },
  {
   "cell_type": "code",
   "execution_count": 2,
   "id": "56312238",
   "metadata": {},
   "outputs": [],
   "source": [
    "# Load shapefiles for states and counties\n",
    "states_shapefile = '/Users/brucehickling/Library/CloudStorage/Dropbox/Courses/CareerFoundry/Data Immersion/6_Advanced Analytics & Dashboard Design/2_Data/Raw Data/cb_2018_us_state_500k/cb_2018_us_state_500k.shp'\n",
    "counties_shapefile = '/Users/brucehickling/Library/CloudStorage/Dropbox/Courses/CareerFoundry/Data Immersion/6_Advanced Analytics & Dashboard Design/2_Data/Raw Data/cb_2018_us_county_500k/cb_2018_us_county_500k.shp'\n",
    "\n",
    "# Read shapefiles into GeoDataFrames\n",
    "states = gpd.read_file(states_shapefile)\n",
    "counties = gpd.read_file(counties_shapefile)"
   ]
  },
  {
   "cell_type": "markdown",
   "id": "4bd05bcc",
   "metadata": {},
   "source": [
    "## 1.2 Import csv file with longitude and latitude values"
   ]
  },
  {
   "cell_type": "code",
   "execution_count": 3,
   "id": "313cd62a",
   "metadata": {},
   "outputs": [],
   "source": [
    "# Import gun_violence_data.csv file with longitude and latitude values\n",
    "csv_file = '/Users/brucehickling/Library/CloudStorage/Dropbox/Courses/CareerFoundry/Data Immersion/6_Advanced Analytics & Dashboard Design/2_Data/Prepared Data/gun_violence_data.csv'\n",
    "df = pd.read_csv(csv_file)"
   ]
  },
  {
   "cell_type": "markdown",
   "id": "495f2dc0",
   "metadata": {},
   "source": [
    "# 2.0 Convert Longitude and Latitude vales to FIPS Codes"
   ]
  },
  {
   "cell_type": "code",
   "execution_count": 4,
   "id": "cb3a894d",
   "metadata": {},
   "outputs": [],
   "source": [
    "# Use conver_to_fips() function to convert longitude and latitude to FIPS codes\n",
    "def convert_to_fips(lon, lat):\n",
    "    point = Point(lon, lat)\n",
    "\n",
    "    # Check if point is within a state boundary\n",
    "    state = states[states.geometry.contains(point)]\n",
    "    if not state.empty:\n",
    "        state_fips = state['STATEFP'].values[0]\n",
    "\n",
    "        # Check if point is within a county boundary\n",
    "        county = counties[counties.geometry.contains(point)]\n",
    "        if not county.empty:\n",
    "            county_fips = county['COUNTYFP'].values[0]\n",
    "            return state_fips, county_fips\n",
    "\n",
    "    return None, None\n",
    "\n",
    "# Iterate over each row in the data set\n",
    "for index, row in df.iterrows():\n",
    "    longitude = row['longitude']\n",
    "    latitude = row['latitude']\n",
    "\n",
    "    state_fips, county_fips = convert_to_fips(longitude, latitude)\n",
    "    df.at[index, 'State FIPS Code'] = state_fips\n",
    "    df.at[index, 'County FIPS Code'] = county_fips"
   ]
  },
  {
   "cell_type": "markdown",
   "id": "2dc9a656",
   "metadata": {},
   "source": [
    "## 2.1 Export revised data set as a csv file to import into Final Project script"
   ]
  },
  {
   "cell_type": "code",
   "execution_count": 5,
   "id": "05d349ab",
   "metadata": {},
   "outputs": [],
   "source": [
    "# Export the updated data set to a revised .csv file\n",
    "output_csv = '/Users/brucehickling/Library/CloudStorage/Dropbox/Courses/CareerFoundry/Data Immersion/6_Advanced Analytics & Dashboard Design/2_Data/Prepared Data/gun_violence_data_FIPS.csv'\n",
    "df.to_csv(output_csv, index=False)"
   ]
  },
  {
   "cell_type": "code",
   "execution_count": null,
   "id": "2bac473c",
   "metadata": {},
   "outputs": [],
   "source": []
  }
 ],
 "metadata": {
  "kernelspec": {
   "display_name": "Python 3 (ipykernel)",
   "language": "python",
   "name": "python3"
  },
  "language_info": {
   "codemirror_mode": {
    "name": "ipython",
    "version": 3
   },
   "file_extension": ".py",
   "mimetype": "text/x-python",
   "name": "python",
   "nbconvert_exporter": "python",
   "pygments_lexer": "ipython3",
   "version": "3.9.13"
  }
 },
 "nbformat": 4,
 "nbformat_minor": 5
}
