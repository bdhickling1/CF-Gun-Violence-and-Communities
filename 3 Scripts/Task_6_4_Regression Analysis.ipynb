{
 "cells": [
  {
   "cell_type": "markdown",
   "id": "2aaf3955",
   "metadata": {},
   "source": [
    "# Task 6.4 Machine Learning: Regression Analysis"
   ]
  },
  {
   "cell_type": "markdown",
   "id": "32183344",
   "metadata": {},
   "source": [
    "## Script Contents"
   ]
  },
  {
   "cell_type": "markdown",
   "id": "4f1add5d",
   "metadata": {},
   "source": [
    "### 1. Import libraries and data sets  \n",
    "### 2. Clean data sets for analysis  \n",
    "### 3. Explore data using scatterplot\n",
    "### 4. Hypothesis statement\n",
    "### 5. Prepare variables for use in a regression\n",
    "### 6. Split the data into training and test sets\n",
    "### 7. Run a linear regression\n",
    "#### 7.1 Fit the model to the training set and create a test set prediction for y  \n",
    "#### 7.2 Plot regression line  \n",
    "#### 7.3 Interpretation of test accuracy. \n",
    "#### 7.4 Check model performance statistics  \n",
    "#### 7.5 Compare predicted and actual values for y  \n",
    "#### 7.6 Reflection on performance"
   ]
  },
  {
   "cell_type": "markdown",
   "id": "a71ee635",
   "metadata": {},
   "source": [
    "# 1. Import libraries and data sets"
   ]
  },
  {
   "cell_type": "markdown",
   "id": "f89d336b",
   "metadata": {},
   "source": [
    "## 1.1 Import libraries"
   ]
  },
  {
   "cell_type": "code",
   "execution_count": 1,
   "id": "9bd1e888",
   "metadata": {},
   "outputs": [],
   "source": [
    "import pandas as pd\n",
    "import numpy as np\n",
    "import seaborn as sns\n",
    "import matplotlib\n",
    "import matplotlib.pyplot as plt\n",
    "import os\n",
    "import sklearn\n",
    "from sklearn.model_selection import train_test_split \n",
    "from sklearn.linear_model import LinearRegression\n",
    "from sklearn.metrics import mean_squared_error, r2_score"
   ]
  },
  {
   "cell_type": "code",
   "execution_count": 2,
   "id": "749ff5b9",
   "metadata": {},
   "outputs": [],
   "source": [
    "# Ensure created graphs are displayed within the notebook without the need to \"call\" them specifically.\n",
    "%matplotlib inline"
   ]
  },
  {
   "cell_type": "markdown",
   "id": "14fc7d81",
   "metadata": {},
   "source": [
    "## 1.2 Import data sets"
   ]
  },
  {
   "cell_type": "code",
   "execution_count": 3,
   "id": "bca09769",
   "metadata": {},
   "outputs": [],
   "source": [
    "path = r'/Users/brucehickling/Library/CloudStorage/Dropbox/Courses/CareerFoundry/Data Immersion/6_Advanced Analytics & Dashboard Design/Achievement Project/'"
   ]
  },
  {
   "cell_type": "code",
   "execution_count": 4,
   "id": "73c0e975",
   "metadata": {},
   "outputs": [],
   "source": [
    "# Import data set to use in the regression analysis\n",
    "df = pd.read_csv(os.path.join(path, '2_Data', 'Prepared Data', 'HUD_gun_analysis.csv'))"
   ]
  },
  {
   "cell_type": "code",
   "execution_count": 5,
   "id": "df08ed94",
   "metadata": {},
   "outputs": [
    {
     "data": {
      "text/html": [
       "<div>\n",
       "<style scoped>\n",
       "    .dataframe tbody tr th:only-of-type {\n",
       "        vertical-align: middle;\n",
       "    }\n",
       "\n",
       "    .dataframe tbody tr th {\n",
       "        vertical-align: top;\n",
       "    }\n",
       "\n",
       "    .dataframe thead th {\n",
       "        text-align: right;\n",
       "    }\n",
       "</style>\n",
       "<table border=\"1\" class=\"dataframe\">\n",
       "  <thead>\n",
       "    <tr style=\"text-align: right;\">\n",
       "      <th></th>\n",
       "      <th>FIPS Code</th>\n",
       "      <th>assisted_housing_count</th>\n",
       "      <th>active_finance</th>\n",
       "      <th>gun incident count</th>\n",
       "      <th>% of adults ≤ high school dip</th>\n",
       "      <th>avg unemploy rate 2015_2020</th>\n",
       "      <th>Area housing assistance category</th>\n",
       "      <th>Gun incident category</th>\n",
       "    </tr>\n",
       "  </thead>\n",
       "  <tbody>\n",
       "    <tr>\n",
       "      <th>0</th>\n",
       "      <td>1001</td>\n",
       "      <td>1</td>\n",
       "      <td>0</td>\n",
       "      <td>40</td>\n",
       "      <td>11.5</td>\n",
       "      <td>4.250000</td>\n",
       "      <td>Few properties</td>\n",
       "      <td>Few gun incidents</td>\n",
       "    </tr>\n",
       "    <tr>\n",
       "      <th>1</th>\n",
       "      <td>1003</td>\n",
       "      <td>12</td>\n",
       "      <td>7</td>\n",
       "      <td>86</td>\n",
       "      <td>9.2</td>\n",
       "      <td>4.533333</td>\n",
       "      <td>Few properties</td>\n",
       "      <td>Few gun incidents</td>\n",
       "    </tr>\n",
       "    <tr>\n",
       "      <th>2</th>\n",
       "      <td>1005</td>\n",
       "      <td>3</td>\n",
       "      <td>1</td>\n",
       "      <td>21</td>\n",
       "      <td>26.8</td>\n",
       "      <td>6.533333</td>\n",
       "      <td>Few properties</td>\n",
       "      <td>Few gun incidents</td>\n",
       "    </tr>\n",
       "    <tr>\n",
       "      <th>3</th>\n",
       "      <td>1007</td>\n",
       "      <td>1</td>\n",
       "      <td>1</td>\n",
       "      <td>8</td>\n",
       "      <td>20.9</td>\n",
       "      <td>5.233333</td>\n",
       "      <td>Few properties</td>\n",
       "      <td>Few gun incidents</td>\n",
       "    </tr>\n",
       "    <tr>\n",
       "      <th>4</th>\n",
       "      <td>1009</td>\n",
       "      <td>2</td>\n",
       "      <td>0</td>\n",
       "      <td>21</td>\n",
       "      <td>19.5</td>\n",
       "      <td>4.216667</td>\n",
       "      <td>Few properties</td>\n",
       "      <td>Few gun incidents</td>\n",
       "    </tr>\n",
       "  </tbody>\n",
       "</table>\n",
       "</div>"
      ],
      "text/plain": [
       "   FIPS Code  assisted_housing_count  active_finance  gun incident count   \n",
       "0       1001                       1               0                  40  \\\n",
       "1       1003                      12               7                  86   \n",
       "2       1005                       3               1                  21   \n",
       "3       1007                       1               1                   8   \n",
       "4       1009                       2               0                  21   \n",
       "\n",
       "   % of adults ≤ high school dip  avg unemploy rate 2015_2020   \n",
       "0                           11.5                     4.250000  \\\n",
       "1                            9.2                     4.533333   \n",
       "2                           26.8                     6.533333   \n",
       "3                           20.9                     5.233333   \n",
       "4                           19.5                     4.216667   \n",
       "\n",
       "  Area housing assistance category Gun incident category  \n",
       "0                   Few properties     Few gun incidents  \n",
       "1                   Few properties     Few gun incidents  \n",
       "2                   Few properties     Few gun incidents  \n",
       "3                   Few properties     Few gun incidents  \n",
       "4                   Few properties     Few gun incidents  "
      ]
     },
     "execution_count": 5,
     "metadata": {},
     "output_type": "execute_result"
    }
   ],
   "source": [
    "# Check the dataframe\n",
    "df.head()"
   ]
  },
  {
   "cell_type": "code",
   "execution_count": 6,
   "id": "ba689991",
   "metadata": {},
   "outputs": [
    {
     "data": {
      "text/plain": [
       "(2344, 8)"
      ]
     },
     "execution_count": 6,
     "metadata": {},
     "output_type": "execute_result"
    }
   ],
   "source": [
    "df.shape"
   ]
  },
  {
   "cell_type": "code",
   "execution_count": 7,
   "id": "0036394c",
   "metadata": {},
   "outputs": [
    {
     "data": {
      "text/plain": [
       "Index(['FIPS Code', 'assisted_housing_count', 'active_finance',\n",
       "       'gun incident count', '% of adults ≤ high school dip',\n",
       "       'avg unemploy rate 2015_2020', 'Area housing assistance category',\n",
       "       'Gun incident category'],\n",
       "      dtype='object')"
      ]
     },
     "execution_count": 7,
     "metadata": {},
     "output_type": "execute_result"
    }
   ],
   "source": [
    "df.columns"
   ]
  },
  {
   "cell_type": "markdown",
   "id": "66701980",
   "metadata": {},
   "source": [
    "# 2. Clean data sets for analysis"
   ]
  },
  {
   "cell_type": "code",
   "execution_count": 8,
   "id": "fd187977",
   "metadata": {},
   "outputs": [
    {
     "data": {
      "text/html": [
       "<div>\n",
       "<style scoped>\n",
       "    .dataframe tbody tr th:only-of-type {\n",
       "        vertical-align: middle;\n",
       "    }\n",
       "\n",
       "    .dataframe tbody tr th {\n",
       "        vertical-align: top;\n",
       "    }\n",
       "\n",
       "    .dataframe thead th {\n",
       "        text-align: right;\n",
       "    }\n",
       "</style>\n",
       "<table border=\"1\" class=\"dataframe\">\n",
       "  <thead>\n",
       "    <tr style=\"text-align: right;\">\n",
       "      <th></th>\n",
       "      <th>FIPS Code</th>\n",
       "      <th>assisted_housing_count</th>\n",
       "      <th>active_finance</th>\n",
       "      <th>gun incident count</th>\n",
       "      <th>% of adults ≤ high school dip</th>\n",
       "      <th>avg unemploy rate 2015_2020</th>\n",
       "    </tr>\n",
       "  </thead>\n",
       "  <tbody>\n",
       "    <tr>\n",
       "      <th>count</th>\n",
       "      <td>2344.000000</td>\n",
       "      <td>2344.000000</td>\n",
       "      <td>2344.000000</td>\n",
       "      <td>2344.000000</td>\n",
       "      <td>2344.000000</td>\n",
       "      <td>2344.000000</td>\n",
       "    </tr>\n",
       "    <tr>\n",
       "      <th>mean</th>\n",
       "      <td>30215.667235</td>\n",
       "      <td>9.856655</td>\n",
       "      <td>5.348549</td>\n",
       "      <td>95.995307</td>\n",
       "      <td>12.874787</td>\n",
       "      <td>5.161519</td>\n",
       "    </tr>\n",
       "    <tr>\n",
       "      <th>std</th>\n",
       "      <td>15158.765859</td>\n",
       "      <td>24.371028</td>\n",
       "      <td>13.823135</td>\n",
       "      <td>361.071065</td>\n",
       "      <td>5.742854</td>\n",
       "      <td>1.581753</td>\n",
       "    </tr>\n",
       "    <tr>\n",
       "      <th>min</th>\n",
       "      <td>1001.000000</td>\n",
       "      <td>1.000000</td>\n",
       "      <td>0.000000</td>\n",
       "      <td>1.000000</td>\n",
       "      <td>1.400000</td>\n",
       "      <td>1.916667</td>\n",
       "    </tr>\n",
       "    <tr>\n",
       "      <th>25%</th>\n",
       "      <td>18160.000000</td>\n",
       "      <td>2.000000</td>\n",
       "      <td>1.000000</td>\n",
       "      <td>5.000000</td>\n",
       "      <td>8.600000</td>\n",
       "      <td>4.116667</td>\n",
       "    </tr>\n",
       "    <tr>\n",
       "      <th>50%</th>\n",
       "      <td>29106.000000</td>\n",
       "      <td>4.000000</td>\n",
       "      <td>2.000000</td>\n",
       "      <td>13.000000</td>\n",
       "      <td>11.700000</td>\n",
       "      <td>4.933333</td>\n",
       "    </tr>\n",
       "    <tr>\n",
       "      <th>75%</th>\n",
       "      <td>42115.500000</td>\n",
       "      <td>9.000000</td>\n",
       "      <td>5.000000</td>\n",
       "      <td>51.000000</td>\n",
       "      <td>16.200000</td>\n",
       "      <td>5.950000</td>\n",
       "    </tr>\n",
       "    <tr>\n",
       "      <th>max</th>\n",
       "      <td>56043.000000</td>\n",
       "      <td>628.000000</td>\n",
       "      <td>288.000000</td>\n",
       "      <td>11780.000000</td>\n",
       "      <td>43.100000</td>\n",
       "      <td>21.783333</td>\n",
       "    </tr>\n",
       "  </tbody>\n",
       "</table>\n",
       "</div>"
      ],
      "text/plain": [
       "          FIPS Code  assisted_housing_count  active_finance   \n",
       "count   2344.000000             2344.000000     2344.000000  \\\n",
       "mean   30215.667235                9.856655        5.348549   \n",
       "std    15158.765859               24.371028       13.823135   \n",
       "min     1001.000000                1.000000        0.000000   \n",
       "25%    18160.000000                2.000000        1.000000   \n",
       "50%    29106.000000                4.000000        2.000000   \n",
       "75%    42115.500000                9.000000        5.000000   \n",
       "max    56043.000000              628.000000      288.000000   \n",
       "\n",
       "       gun incident count  % of adults ≤ high school dip   \n",
       "count         2344.000000                    2344.000000  \\\n",
       "mean            95.995307                      12.874787   \n",
       "std            361.071065                       5.742854   \n",
       "min              1.000000                       1.400000   \n",
       "25%              5.000000                       8.600000   \n",
       "50%             13.000000                      11.700000   \n",
       "75%             51.000000                      16.200000   \n",
       "max          11780.000000                      43.100000   \n",
       "\n",
       "       avg unemploy rate 2015_2020  \n",
       "count                  2344.000000  \n",
       "mean                      5.161519  \n",
       "std                       1.581753  \n",
       "min                       1.916667  \n",
       "25%                       4.116667  \n",
       "50%                       4.933333  \n",
       "75%                       5.950000  \n",
       "max                      21.783333  "
      ]
     },
     "execution_count": 8,
     "metadata": {},
     "output_type": "execute_result"
    }
   ],
   "source": [
    "df.describe()"
   ]
  },
  {
   "cell_type": "code",
   "execution_count": 9,
   "id": "f439917c",
   "metadata": {},
   "outputs": [],
   "source": [
    "# Rename three columns for consistency\n",
    "df.rename(columns = {'FIPS Code' : 'FIPS_code', 'gun incident count' : 'gun_incident_count', '% of adults ≤ high school dip' : '%adults<high_school_dip', 'avg unemploy rate 2015_2020' : 'avg_unemploy_rate_2015-2020', 'Area housing assistance category' : 'assisted_housing_density', 'Gun incident category': 'gun_incidence_category'}, inplace = True)"
   ]
  },
  {
   "cell_type": "code",
   "execution_count": 10,
   "id": "2182967f",
   "metadata": {},
   "outputs": [
    {
     "data": {
      "text/plain": [
       "FIPS_code                      0\n",
       "assisted_housing_count         0\n",
       "active_finance                 0\n",
       "gun_incident_count             0\n",
       "%adults<high_school_dip        0\n",
       "avg_unemploy_rate_2015-2020    0\n",
       "assisted_housing_density       0\n",
       "gun_incidence_category         0\n",
       "dtype: int64"
      ]
     },
     "execution_count": 10,
     "metadata": {},
     "output_type": "execute_result"
    }
   ],
   "source": [
    "# Check for missing data\n",
    "df.isnull().sum()"
   ]
  },
  {
   "cell_type": "code",
   "execution_count": 11,
   "id": "3b4e35f4",
   "metadata": {},
   "outputs": [],
   "source": [
    "# Check for duplidates\n",
    "df_dups = df[df.duplicated()]"
   ]
  },
  {
   "cell_type": "code",
   "execution_count": 12,
   "id": "9940c57c",
   "metadata": {},
   "outputs": [
    {
     "data": {
      "text/html": [
       "<div>\n",
       "<style scoped>\n",
       "    .dataframe tbody tr th:only-of-type {\n",
       "        vertical-align: middle;\n",
       "    }\n",
       "\n",
       "    .dataframe tbody tr th {\n",
       "        vertical-align: top;\n",
       "    }\n",
       "\n",
       "    .dataframe thead th {\n",
       "        text-align: right;\n",
       "    }\n",
       "</style>\n",
       "<table border=\"1\" class=\"dataframe\">\n",
       "  <thead>\n",
       "    <tr style=\"text-align: right;\">\n",
       "      <th></th>\n",
       "      <th>FIPS_code</th>\n",
       "      <th>assisted_housing_count</th>\n",
       "      <th>active_finance</th>\n",
       "      <th>gun_incident_count</th>\n",
       "      <th>%adults&lt;high_school_dip</th>\n",
       "      <th>avg_unemploy_rate_2015-2020</th>\n",
       "      <th>assisted_housing_density</th>\n",
       "      <th>gun_incidence_category</th>\n",
       "    </tr>\n",
       "  </thead>\n",
       "  <tbody>\n",
       "  </tbody>\n",
       "</table>\n",
       "</div>"
      ],
      "text/plain": [
       "Empty DataFrame\n",
       "Columns: [FIPS_code, assisted_housing_count, active_finance, gun_incident_count, %adults<high_school_dip, avg_unemploy_rate_2015-2020, assisted_housing_density, gun_incidence_category]\n",
       "Index: []"
      ]
     },
     "execution_count": 12,
     "metadata": {},
     "output_type": "execute_result"
    }
   ],
   "source": [
    "df_dups"
   ]
  },
  {
   "cell_type": "markdown",
   "id": "8c7fbde7",
   "metadata": {},
   "source": [
    "## 2.1 Check assisted housing count for extreme values"
   ]
  },
  {
   "cell_type": "code",
   "execution_count": 13,
   "id": "e2ff961a",
   "metadata": {},
   "outputs": [
    {
     "data": {
      "text/plain": [
       "<Axes: xlabel='assisted_housing_count', ylabel='Count'>"
      ]
     },
     "execution_count": 13,
     "metadata": {},
     "output_type": "execute_result"
    },
    {
     "data": {
      "image/png": "[encoded data removed]",
      "text/plain": [
       "<Figure size 640x480 with 1 Axes>"
      ]
     },
     "metadata": {},
     "output_type": "display_data"
    }
   ],
   "source": [
    "# Check assisted housing count values\n",
    "sns.histplot(df['assisted_housing_count'], bins=30)"
   ]
  },
  {
   "cell_type": "code",
   "execution_count": 14,
   "id": "86298ddb",
   "metadata": {},
   "outputs": [
    {
     "data": {
      "text/plain": [
       "9.856655290102388"
      ]
     },
     "execution_count": 14,
     "metadata": {},
     "output_type": "execute_result"
    }
   ],
   "source": [
    "# Check other statistics for assisted housing count\n",
    "df['assisted_housing_count'].mean()"
   ]
  },
  {
   "cell_type": "code",
   "execution_count": 15,
   "id": "fb7faa1f",
   "metadata": {},
   "outputs": [
    {
     "data": {
      "text/plain": [
       "4.0"
      ]
     },
     "execution_count": 15,
     "metadata": {},
     "output_type": "execute_result"
    }
   ],
   "source": [
    "df['assisted_housing_count'].median()"
   ]
  },
  {
   "cell_type": "code",
   "execution_count": 16,
   "id": "0d92dd9a",
   "metadata": {},
   "outputs": [
    {
     "data": {
      "text/plain": [
       "628"
      ]
     },
     "execution_count": 16,
     "metadata": {},
     "output_type": "execute_result"
    }
   ],
   "source": [
    "df['assisted_housing_count'].max()"
   ]
  },
  {
   "cell_type": "code",
   "execution_count": 17,
   "id": "8af72c87",
   "metadata": {},
   "outputs": [
    {
     "data": {
      "text/plain": [
       "1"
      ]
     },
     "execution_count": 17,
     "metadata": {},
     "output_type": "execute_result"
    }
   ],
   "source": [
    "df['assisted_housing_count'].min()"
   ]
  },
  {
   "cell_type": "markdown",
   "id": "3a423fc4",
   "metadata": {},
   "source": [
    "__There are obvious extreme values in the 'assisted housing count' but it is not yet conclusive if they are ligitimate outliers. It is my assumption that the extreme values for this variable come from the largest urban cities in the U.S. and so would be important to include in an analysis of multifamily assisted housing.  That said, it might be useful as a next step of analysis, beyond this task, to look at categorizing for population by county to categorize and analyse different population density categories. For this particular regression analysis exercise, I will treat the extreme values as outliers and remove them.__  \n",
    "\n",
    "__For 'assisted housing count' I will treat a count > 50 as an outlier.__"
   ]
  },
  {
   "cell_type": "code",
   "execution_count": 18,
   "id": "921456e4",
   "metadata": {},
   "outputs": [],
   "source": [
    "# Remove extreme values from the 'assisted housing count' variable\n",
    "df = df[df['assisted_housing_count'] < 50]"
   ]
  },
  {
   "cell_type": "code",
   "execution_count": 19,
   "id": "08bfd75a",
   "metadata": {},
   "outputs": [
    {
     "data": {
      "text/html": [
       "<div>\n",
       "<style scoped>\n",
       "    .dataframe tbody tr th:only-of-type {\n",
       "        vertical-align: middle;\n",
       "    }\n",
       "\n",
       "    .dataframe tbody tr th {\n",
       "        vertical-align: top;\n",
       "    }\n",
       "\n",
       "    .dataframe thead th {\n",
       "        text-align: right;\n",
       "    }\n",
       "</style>\n",
       "<table border=\"1\" class=\"dataframe\">\n",
       "  <thead>\n",
       "    <tr style=\"text-align: right;\">\n",
       "      <th></th>\n",
       "      <th>FIPS_code</th>\n",
       "      <th>assisted_housing_count</th>\n",
       "      <th>active_finance</th>\n",
       "      <th>gun_incident_count</th>\n",
       "      <th>%adults&lt;high_school_dip</th>\n",
       "      <th>avg_unemploy_rate_2015-2020</th>\n",
       "      <th>assisted_housing_density</th>\n",
       "      <th>gun_incidence_category</th>\n",
       "    </tr>\n",
       "  </thead>\n",
       "  <tbody>\n",
       "    <tr>\n",
       "      <th>0</th>\n",
       "      <td>1001</td>\n",
       "      <td>1</td>\n",
       "      <td>0</td>\n",
       "      <td>40</td>\n",
       "      <td>11.5</td>\n",
       "      <td>4.250000</td>\n",
       "      <td>Few properties</td>\n",
       "      <td>Few gun incidents</td>\n",
       "    </tr>\n",
       "    <tr>\n",
       "      <th>1</th>\n",
       "      <td>1003</td>\n",
       "      <td>12</td>\n",
       "      <td>7</td>\n",
       "      <td>86</td>\n",
       "      <td>9.2</td>\n",
       "      <td>4.533333</td>\n",
       "      <td>Few properties</td>\n",
       "      <td>Few gun incidents</td>\n",
       "    </tr>\n",
       "    <tr>\n",
       "      <th>2</th>\n",
       "      <td>1005</td>\n",
       "      <td>3</td>\n",
       "      <td>1</td>\n",
       "      <td>21</td>\n",
       "      <td>26.8</td>\n",
       "      <td>6.533333</td>\n",
       "      <td>Few properties</td>\n",
       "      <td>Few gun incidents</td>\n",
       "    </tr>\n",
       "    <tr>\n",
       "      <th>3</th>\n",
       "      <td>1007</td>\n",
       "      <td>1</td>\n",
       "      <td>1</td>\n",
       "      <td>8</td>\n",
       "      <td>20.9</td>\n",
       "      <td>5.233333</td>\n",
       "      <td>Few properties</td>\n",
       "      <td>Few gun incidents</td>\n",
       "    </tr>\n",
       "    <tr>\n",
       "      <th>4</th>\n",
       "      <td>1009</td>\n",
       "      <td>2</td>\n",
       "      <td>0</td>\n",
       "      <td>21</td>\n",
       "      <td>19.5</td>\n",
       "      <td>4.216667</td>\n",
       "      <td>Few properties</td>\n",
       "      <td>Few gun incidents</td>\n",
       "    </tr>\n",
       "  </tbody>\n",
       "</table>\n",
       "</div>"
      ],
      "text/plain": [
       "   FIPS_code  assisted_housing_count  active_finance  gun_incident_count   \n",
       "0       1001                       1               0                  40  \\\n",
       "1       1003                      12               7                  86   \n",
       "2       1005                       3               1                  21   \n",
       "3       1007                       1               1                   8   \n",
       "4       1009                       2               0                  21   \n",
       "\n",
       "   %adults<high_school_dip  avg_unemploy_rate_2015-2020   \n",
       "0                     11.5                     4.250000  \\\n",
       "1                      9.2                     4.533333   \n",
       "2                     26.8                     6.533333   \n",
       "3                     20.9                     5.233333   \n",
       "4                     19.5                     4.216667   \n",
       "\n",
       "  assisted_housing_density gun_incidence_category  \n",
       "0           Few properties      Few gun incidents  \n",
       "1           Few properties      Few gun incidents  \n",
       "2           Few properties      Few gun incidents  \n",
       "3           Few properties      Few gun incidents  \n",
       "4           Few properties      Few gun incidents  "
      ]
     },
     "execution_count": 19,
     "metadata": {},
     "output_type": "execute_result"
    }
   ],
   "source": [
    "df.head()"
   ]
  },
  {
   "cell_type": "code",
   "execution_count": 20,
   "id": "949c023c",
   "metadata": {},
   "outputs": [
    {
     "data": {
      "text/plain": [
       "49"
      ]
     },
     "execution_count": 20,
     "metadata": {},
     "output_type": "execute_result"
    }
   ],
   "source": [
    "df['assisted_housing_count'].max()"
   ]
  },
  {
   "cell_type": "markdown",
   "id": "1fdb4efb",
   "metadata": {},
   "source": [
    "## 2.2 Check gun incident count for extreme values"
   ]
  },
  {
   "cell_type": "code",
   "execution_count": 21,
   "id": "68f85e4a",
   "metadata": {},
   "outputs": [
    {
     "data": {
      "text/plain": [
       "<Axes: xlabel='gun_incident_count', ylabel='Count'>"
      ]
     },
     "execution_count": 21,
     "metadata": {},
     "output_type": "execute_result"
    },
    {
     "data": {
      "image/png": "[encoded data removed]",
      "text/plain": [
       "<Figure size 640x480 with 1 Axes>"
      ]
     },
     "metadata": {},
     "output_type": "display_data"
    }
   ],
   "source": [
    "# Check gun incident count values\n",
    "sns.histplot(df['gun_incident_count'], bins=30)"
   ]
  },
  {
   "cell_type": "code",
   "execution_count": 22,
   "id": "7abbb235",
   "metadata": {},
   "outputs": [
    {
     "data": {
      "text/plain": [
       "57.068402471315096"
      ]
     },
     "execution_count": 22,
     "metadata": {},
     "output_type": "execute_result"
    }
   ],
   "source": [
    "# Check other statistics for assisted housing count\n",
    "df['gun_incident_count'].mean()"
   ]
  },
  {
   "cell_type": "code",
   "execution_count": 23,
   "id": "0788b617",
   "metadata": {},
   "outputs": [
    {
     "data": {
      "text/plain": [
       "12.0"
      ]
     },
     "execution_count": 23,
     "metadata": {},
     "output_type": "execute_result"
    }
   ],
   "source": [
    "df['gun_incident_count'].median()"
   ]
  },
  {
   "cell_type": "code",
   "execution_count": 24,
   "id": "c950d93c",
   "metadata": {},
   "outputs": [
    {
     "data": {
      "text/plain": [
       "1429"
      ]
     },
     "execution_count": 24,
     "metadata": {},
     "output_type": "execute_result"
    }
   ],
   "source": [
    "df['gun_incident_count'].max()"
   ]
  },
  {
   "cell_type": "code",
   "execution_count": 25,
   "id": "342f98eb",
   "metadata": {},
   "outputs": [
    {
     "data": {
      "text/plain": [
       "1"
      ]
     },
     "execution_count": 25,
     "metadata": {},
     "output_type": "execute_result"
    }
   ],
   "source": [
    "df['gun_incident_count'].min()"
   ]
  },
  {
   "cell_type": "markdown",
   "id": "6ffa4636",
   "metadata": {},
   "source": [
    "__There are obvious extreme values in the 'gun incident count' but it is unfortunately the case that they are not ligitimate outliers, but counties in the U.S with very high rates of gun violence and other violent crime. It is my assumption that the extreme values for this variable come from large urban areas in the U.S. and so would be important to include in an analysis of multifamily assisted housing and gun violence.  That said, it might be useful as a next step of analysis, beyond this task, to look at categorizing for population by county to categorize and analyse different population density categories along with multifamily assisted housing properaties. For this particular regression analysis exercise, I will treat the extreme values as outliers and remove them.__  \n",
    "\n",
    "__For 'assisted housing count' I will treat a count > 300 as an outlier.__"
   ]
  },
  {
   "cell_type": "code",
   "execution_count": 26,
   "id": "50f6b40e",
   "metadata": {},
   "outputs": [],
   "source": [
    "# Remove extreme values from the 'gun incident count' variable\n",
    "df = df[df['gun_incident_count'] < 300]"
   ]
  },
  {
   "cell_type": "code",
   "execution_count": 27,
   "id": "551c9d90",
   "metadata": {},
   "outputs": [
    {
     "data": {
      "text/plain": [
       "299"
      ]
     },
     "execution_count": 27,
     "metadata": {},
     "output_type": "execute_result"
    }
   ],
   "source": [
    "df['gun_incident_count'].max()"
   ]
  },
  {
   "cell_type": "markdown",
   "id": "07752a7c",
   "metadata": {},
   "source": [
    "# 3. Explore data using scatterplot"
   ]
  },
  {
   "cell_type": "code",
   "execution_count": 28,
   "id": "632c1ea4",
   "metadata": {},
   "outputs": [
    {
     "data": {
      "text/plain": [
       "<function matplotlib.pyplot.show(close=None, block=None)>"
      ]
     },
     "execution_count": 28,
     "metadata": {},
     "output_type": "execute_result"
    },
    {
     "data": {
      "image/png": "[encoded data removed]",
      "text/plain": [
       "<Figure size 640x480 with 1 Axes>"
      ]
     },
     "metadata": {},
     "output_type": "display_data"
    }
   ],
   "source": [
    "# Create a scatterplot of gun violence vs assisted housing\n",
    "df.plot(x = 'gun_incident_count', y = 'assisted_housing_count', style = 'o')\n",
    "plt.title('Incidence of Gun Violence vs Number of Assisted Housing Properties')\n",
    "plt.xlabel('Gun Violence Incidents')\n",
    "plt.ylabel('Count of Multifamily Assisted Housing Properties')\n",
    "plt.show"
   ]
  },
  {
   "cell_type": "code",
   "execution_count": 29,
   "id": "c8bfe633",
   "metadata": {},
   "outputs": [
    {
     "data": {
      "text/plain": [
       "<function matplotlib.pyplot.show(close=None, block=None)>"
      ]
     },
     "execution_count": 29,
     "metadata": {},
     "output_type": "execute_result"
    },
    {
     "data": {
      "image/png": "[encoded data removed]",
      "text/plain": [
       "<Figure size 640x480 with 1 Axes>"
      ]
     },
     "metadata": {},
     "output_type": "display_data"
    }
   ],
   "source": [
    "# Create a scatterplot of assisted housing vs gun violence\n",
    "df.plot(x = 'assisted_housing_count', y = 'gun_incident_count', style = 'o')\n",
    "plt.title('Number of Assisted Housing Properties vs Incidence of Gun Violence')\n",
    "plt.xlabel('Count of Multifamily Assisted Housing Properties')\n",
    "plt.ylabel('Gun Violence Incidents')\n",
    "plt.show"
   ]
  },
  {
   "cell_type": "markdown",
   "id": "76625439",
   "metadata": {},
   "source": [
    "# 4. Hypothesis statement"
   ]
  },
  {
   "cell_type": "markdown",
   "id": "41b807b5",
   "metadata": {},
   "source": [
    "__My intial hypothesis is: \"Counties in the United States with more multifamilty assisted housing properties will suffer from higher rates of gun violence than counties with fewer multifamily assisted housing properties.\"__  \n",
    "\n",
    "__I would have thought that gun violence was the independent variable, but from looking at the scatterplots above (and the categorical plots created in Task 6.2) I hypothesize that there is a stronger correlation with gun violence as teh dependent variable, which I would like to test here.__"
   ]
  },
  {
   "cell_type": "markdown",
   "id": "c5a16b9e",
   "metadata": {},
   "source": [
    "# 5. Perform a regression analysis of assisted housing and gun violence"
   ]
  },
  {
   "cell_type": "markdown",
   "id": "c50ca2a9",
   "metadata": {},
   "source": [
    "## 5.1 Prepare variables for use in a regression"
   ]
  },
  {
   "cell_type": "code",
   "execution_count": 30,
   "id": "28bba8f0",
   "metadata": {},
   "outputs": [],
   "source": [
    "# Reshape the variables into Numpy arrays and put them into separate objects\n",
    "X = df['gun_incident_count'].values.reshape(-1,1)\n",
    "y = df['assisted_housing_count'].values.reshape(-1,1)"
   ]
  },
  {
   "cell_type": "code",
   "execution_count": 31,
   "id": "10de7142",
   "metadata": {},
   "outputs": [
    {
     "data": {
      "text/plain": [
       "array([[40],\n",
       "       [86],\n",
       "       [21],\n",
       "       ...,\n",
       "       [ 3],\n",
       "       [ 3],\n",
       "       [ 3]])"
      ]
     },
     "execution_count": 31,
     "metadata": {},
     "output_type": "execute_result"
    }
   ],
   "source": [
    "X"
   ]
  },
  {
   "cell_type": "code",
   "execution_count": 32,
   "id": "e899049a",
   "metadata": {},
   "outputs": [
    {
     "data": {
      "text/plain": [
       "array([[ 1],\n",
       "       [12],\n",
       "       [ 3],\n",
       "       ...,\n",
       "       [ 3],\n",
       "       [ 2],\n",
       "       [ 2]])"
      ]
     },
     "execution_count": 32,
     "metadata": {},
     "output_type": "execute_result"
    }
   ],
   "source": [
    "y"
   ]
  },
  {
   "cell_type": "markdown",
   "id": "bf3e8fd8",
   "metadata": {},
   "source": [
    "## 5.2 Split the data into training and test sets"
   ]
  },
  {
   "cell_type": "code",
   "execution_count": 33,
   "id": "d163105e",
   "metadata": {},
   "outputs": [],
   "source": [
    "# Split the data into a training set and a test set\n",
    "X_train,  X_test, y_train, y_test = train_test_split(X, y, test_size = 0.3, random_state=0)"
   ]
  },
  {
   "cell_type": "markdown",
   "id": "182ff569",
   "metadata": {},
   "source": [
    "## 5.3 Create the linear regression model"
   ]
  },
  {
   "cell_type": "code",
   "execution_count": 34,
   "id": "48c0f026",
   "metadata": {},
   "outputs": [],
   "source": [
    "# Create a regression object\n",
    "regression = LinearRegression()"
   ]
  },
  {
   "cell_type": "markdown",
   "id": "9e2f7f69",
   "metadata": {},
   "source": [
    "## 5.4 Fit the model to the training set and create a test set prediction for y"
   ]
  },
  {
   "cell_type": "code",
   "execution_count": 35,
   "id": "dba065b7",
   "metadata": {},
   "outputs": [
    {
     "data": {
      "text/html": [
       "<style>#sk-container-id-1 {color: black;background-color: white;}#sk-container-id-1 pre{padding: 0;}#sk-container-id-1 div.sk-toggleable {background-color: white;}#sk-container-id-1 label.sk-toggleable__label {cursor: pointer;display: block;width: 100%;margin-bottom: 0;padding: 0.3em;box-sizing: border-box;text-align: center;}#sk-container-id-1 label.sk-toggleable__label-arrow:before {content: \"▸\";float: left;margin-right: 0.25em;color: #696969;}#sk-container-id-1 label.sk-toggleable__label-arrow:hover:before {color: black;}#sk-container-id-1 div.sk-estimator:hover label.sk-toggleable__label-arrow:before {color: black;}#sk-container-id-1 div.sk-toggleable__content {max-height: 0;max-width: 0;overflow: hidden;text-align: left;background-color: #f0f8ff;}#sk-container-id-1 div.sk-toggleable__content pre {margin: 0.2em;color: black;border-radius: 0.25em;background-color: #f0f8ff;}#sk-container-id-1 input.sk-toggleable__control:checked~div.sk-toggleable__content {max-height: 200px;max-width: 100%;overflow: auto;}#sk-container-id-1 input.sk-toggleable__control:checked~label.sk-toggleable__label-arrow:before {content: \"▾\";}#sk-container-id-1 div.sk-estimator input.sk-toggleable__control:checked~label.sk-toggleable__label {background-color: #d4ebff;}#sk-container-id-1 div.sk-label input.sk-toggleable__control:checked~label.sk-toggleable__label {background-color: #d4ebff;}#sk-container-id-1 input.sk-hidden--visually {border: 0;clip: rect(1px 1px 1px 1px);clip: rect(1px, 1px, 1px, 1px);height: 1px;margin: -1px;overflow: hidden;padding: 0;position: absolute;width: 1px;}#sk-container-id-1 div.sk-estimator {font-family: monospace;background-color: #f0f8ff;border: 1px dotted black;border-radius: 0.25em;box-sizing: border-box;margin-bottom: 0.5em;}#sk-container-id-1 div.sk-estimator:hover {background-color: #d4ebff;}#sk-container-id-1 div.sk-parallel-item::after {content: \"\";width: 100%;border-bottom: 1px solid gray;flex-grow: 1;}#sk-container-id-1 div.sk-label:hover label.sk-toggleable__label {background-color: #d4ebff;}#sk-container-id-1 div.sk-serial::before {content: \"\";position: absolute;border-left: 1px solid gray;box-sizing: border-box;top: 0;bottom: 0;left: 50%;z-index: 0;}#sk-container-id-1 div.sk-serial {display: flex;flex-direction: column;align-items: center;background-color: white;padding-right: 0.2em;padding-left: 0.2em;position: relative;}#sk-container-id-1 div.sk-item {position: relative;z-index: 1;}#sk-container-id-1 div.sk-parallel {display: flex;align-items: stretch;justify-content: center;background-color: white;position: relative;}#sk-container-id-1 div.sk-item::before, #sk-container-id-1 div.sk-parallel-item::before {content: \"\";position: absolute;border-left: 1px solid gray;box-sizing: border-box;top: 0;bottom: 0;left: 50%;z-index: -1;}#sk-container-id-1 div.sk-parallel-item {display: flex;flex-direction: column;z-index: 1;position: relative;background-color: white;}#sk-container-id-1 div.sk-parallel-item:first-child::after {align-self: flex-end;width: 50%;}#sk-container-id-1 div.sk-parallel-item:last-child::after {align-self: flex-start;width: 50%;}#sk-container-id-1 div.sk-parallel-item:only-child::after {width: 0;}#sk-container-id-1 div.sk-dashed-wrapped {border: 1px dashed gray;margin: 0 0.4em 0.5em 0.4em;box-sizing: border-box;padding-bottom: 0.4em;background-color: white;}#sk-container-id-1 div.sk-label label {font-family: monospace;font-weight: bold;display: inline-block;line-height: 1.2em;}#sk-container-id-1 div.sk-label-container {text-align: center;}#sk-container-id-1 div.sk-container {/* jupyter's `normalize.less` sets `[hidden] { display: none; }` but bootstrap.min.css set `[hidden] { display: none !important; }` so we also need the `!important` here to be able to override the default hidden behavior on the sphinx rendered scikit-learn.org. See: https://github.com/scikit-learn/scikit-learn/issues/21755 */display: inline-block !important;position: relative;}#sk-container-id-1 div.sk-text-repr-fallback {display: none;}</style><div id=\"sk-container-id-1\" class=\"sk-top-container\"><div class=\"sk-text-repr-fallback\"><pre>LinearRegression()</pre><b>In a Jupyter environment, please rerun this cell to show the HTML representation or trust the notebook. <br />On GitHub, the HTML representation is unable to render, please try loading this page with nbviewer.org.</b></div><div class=\"sk-container\" hidden><div class=\"sk-item\"><div class=\"sk-estimator sk-toggleable\"><input class=\"sk-toggleable__control sk-hidden--visually\" id=\"sk-estimator-id-1\" type=\"checkbox\" checked><label for=\"sk-estimator-id-1\" class=\"sk-toggleable__label sk-toggleable__label-arrow\">LinearRegression</label><div class=\"sk-toggleable__content\"><pre>LinearRegression()</pre></div></div></div></div></div>"
      ],
      "text/plain": [
       "LinearRegression()"
      ]
     },
     "execution_count": 35,
     "metadata": {},
     "output_type": "execute_result"
    }
   ],
   "source": [
    "regression.fit(X_train, y_train)"
   ]
  },
  {
   "cell_type": "code",
   "execution_count": 36,
   "id": "30291506",
   "metadata": {},
   "outputs": [],
   "source": [
    "# Predict the values of y using X\n",
    "y_predicted = regression.predict(X_test)"
   ]
  },
  {
   "cell_type": "markdown",
   "id": "a685f1f7",
   "metadata": {},
   "source": [
    "## 5.5 Plot regression line"
   ]
  },
  {
   "cell_type": "code",
   "execution_count": 47,
   "id": "71454372",
   "metadata": {},
   "outputs": [
    {
     "data": {
      "image/png": "[encoded data removed]",
      "text/plain": [
       "<Figure size 640x480 with 1 Axes>"
      ]
     },
     "metadata": {},
     "output_type": "display_data"
    }
   ],
   "source": [
    "plot_test = plt\n",
    "plot_test.scatter(X_test, y_test, color='grey', s = 15)\n",
    "plot_test.plot(X_test, y_predicted, color='red',  linewidth = 3)\n",
    "plot_test.title('Assisted Housing vs Gun Violence (Test Set)')\n",
    "plot_test.xlabel('Incidence of Gun Violence')\n",
    "plot_test.ylabel('Count of Multifamily Assisted Housing Properties')\n",
    "plot_test.show()"
   ]
  },
  {
   "cell_type": "code",
   "execution_count": 48,
   "id": "cb20b888",
   "metadata": {},
   "outputs": [
    {
     "data": {
      "text/plain": [
       "<Figure size 640x480 with 0 Axes>"
      ]
     },
     "metadata": {},
     "output_type": "display_data"
    }
   ],
   "source": [
    "# Export plot\n",
    "plot_test.savefig('linear_regession.png')"
   ]
  },
  {
   "cell_type": "markdown",
   "id": "8093a2f4",
   "metadata": {},
   "source": [
    "## 5.6 Interpretation of test accuracy"
   ]
  },
  {
   "cell_type": "markdown",
   "id": "9929e3c1",
   "metadata": {},
   "source": [
    "__There are a handful of counties with a high concentration of multifamily assisted housing properties without the same levels of gun violence reported as in many other areas with few numbers of assisted housing properties. It could be with a lower threshold for extreme values on the count of assisted housing properties the model would be more accurate, but as mentioned earlier this might be introducing some bias or otherwise influencing the outcome of the regression as it has not been determined that the extreme values are legitimate outliers.__  \n",
    "\n",
    "__Overall, I would interpret the model as generally true as a correlationt but that it is not very accurate as there are additional variables to consider that would provide a more accurate model__."
   ]
  },
  {
   "cell_type": "markdown",
   "id": "aeced7ab",
   "metadata": {},
   "source": [
    "## 5.7 Check model performance statistics"
   ]
  },
  {
   "cell_type": "code",
   "execution_count": 39,
   "id": "ca9ec527",
   "metadata": {},
   "outputs": [],
   "source": [
    "# Create objects that contain summary statistics of the model's performance for the mean squared error and R2 score\n",
    "rmse = mean_squared_error(y_test, y_predicted)\n",
    "r2 = r2_score(y_test, y_predicted)"
   ]
  },
  {
   "cell_type": "code",
   "execution_count": 40,
   "id": "0deb8841",
   "metadata": {},
   "outputs": [
    {
     "name": "stdout",
     "output_type": "stream",
     "text": [
      "Slope: [[0.08037276]]\n",
      "Mean squared error:  24.8343847632361\n",
      "R2 score:  0.3586025388228802\n"
     ]
    }
   ],
   "source": [
    "# Print the model summary statistics to evaluate the model\n",
    "print('Slope:' ,regression.coef_)\n",
    "print('Mean squared error: ', rmse)\n",
    "print('R2 score: ', r2)"
   ]
  },
  {
   "cell_type": "markdown",
   "id": "cdf8a730",
   "metadata": {},
   "source": [
    "## 5.8 Compare predicted and actual values for y"
   ]
  },
  {
   "cell_type": "code",
   "execution_count": 41,
   "id": "45803b52",
   "metadata": {},
   "outputs": [
    {
     "data": {
      "text/plain": [
       "array([[ 4.00427841],\n",
       "       [ 3.28092353],\n",
       "       [ 7.6210528 ],\n",
       "       [ 4.16502394],\n",
       "       [ 3.28092353],\n",
       "       [ 3.68278735],\n",
       "       [12.20230037],\n",
       "       [ 3.52204182],\n",
       "       [ 3.52204182],\n",
       "       [ 4.16502394],\n",
       "       [ 3.20055077],\n",
       "       [ 3.76316012],\n",
       "       [ 4.2453967 ],\n",
       "       [ 6.57620687],\n",
       "       [ 6.97807069],\n",
       "       [21.20404997],\n",
       "       [ 3.84353288],\n",
       "       [ 3.20055077],\n",
       "       [10.43409955],\n",
       "       [14.372365  ],\n",
       "       [ 3.3612963 ],\n",
       "       [ 3.60241459],\n",
       "       [ 3.44166906],\n",
       "       [ 5.3706154 ],\n",
       "       [ 3.60241459],\n",
       "       [ 3.28092353],\n",
       "       [ 4.80800605],\n",
       "       [ 3.68278735],\n",
       "       [ 3.120178  ],\n",
       "       [ 4.32576947],\n",
       "       [ 3.20055077],\n",
       "       [ 3.84353288],\n",
       "       [ 3.92390565],\n",
       "       [ 4.08465117],\n",
       "       [ 4.40614223],\n",
       "       [14.29199224],\n",
       "       [ 3.20055077],\n",
       "       [ 3.120178  ],\n",
       "       [17.18541175],\n",
       "       [ 4.96875158],\n",
       "       [13.56863736],\n",
       "       [ 3.76316012],\n",
       "       [ 3.3612963 ],\n",
       "       [ 3.3612963 ],\n",
       "       [ 8.02291662],\n",
       "       [ 3.120178  ],\n",
       "       [ 9.71074468],\n",
       "       [ 3.20055077],\n",
       "       [ 5.6117337 ],\n",
       "       [ 6.41546134],\n",
       "       [ 4.00427841],\n",
       "       [ 5.85285199],\n",
       "       [ 4.2453967 ],\n",
       "       [ 3.52204182],\n",
       "       [ 4.08465117],\n",
       "       [10.35372679],\n",
       "       [ 5.04912435],\n",
       "       [ 3.120178  ],\n",
       "       [ 6.25471581],\n",
       "       [ 5.93322475],\n",
       "       [ 5.3706154 ],\n",
       "       [ 3.3612963 ],\n",
       "       [ 3.20055077],\n",
       "       [ 3.44166906],\n",
       "       [ 3.28092353],\n",
       "       [ 3.60241459],\n",
       "       [ 4.00427841],\n",
       "       [ 4.00427841],\n",
       "       [ 3.20055077],\n",
       "       [17.26578452],\n",
       "       [ 3.120178  ],\n",
       "       [ 4.16502394],\n",
       "       [ 3.120178  ],\n",
       "       [ 4.00427841],\n",
       "       [ 4.32576947],\n",
       "       [ 3.28092353],\n",
       "       [ 5.20986987],\n",
       "       [ 4.16502394],\n",
       "       [ 5.85285199],\n",
       "       [ 3.44166906],\n",
       "       [ 3.28092353],\n",
       "       [ 7.46030727],\n",
       "       [ 8.34440768],\n",
       "       [ 4.2453967 ],\n",
       "       [ 3.20055077],\n",
       "       [ 4.00427841],\n",
       "       [ 3.20055077],\n",
       "       [ 3.76316012],\n",
       "       [ 4.40614223],\n",
       "       [ 5.04912435],\n",
       "       [ 5.12949711],\n",
       "       [ 3.20055077],\n",
       "       [16.22093858],\n",
       "       [ 4.00427841],\n",
       "       [ 3.3612963 ],\n",
       "       [ 3.20055077],\n",
       "       [ 3.52204182],\n",
       "       [ 7.46030727],\n",
       "       [ 4.08465117],\n",
       "       [ 3.76316012],\n",
       "       [ 6.89769792],\n",
       "       [ 3.20055077],\n",
       "       [25.38343371],\n",
       "       [ 3.120178  ],\n",
       "       [15.17609265],\n",
       "       [ 3.52204182],\n",
       "       [ 3.68278735],\n",
       "       [ 5.77247922],\n",
       "       [ 3.20055077],\n",
       "       [ 6.17434305],\n",
       "       [ 3.44166906],\n",
       "       [ 3.20055077],\n",
       "       [ 4.32576947],\n",
       "       [ 5.6117337 ],\n",
       "       [ 9.63037191],\n",
       "       [ 6.25471581],\n",
       "       [ 3.120178  ],\n",
       "       [ 4.32576947],\n",
       "       [ 6.4958341 ],\n",
       "       [ 3.92390565],\n",
       "       [ 3.28092353],\n",
       "       [ 3.44166906],\n",
       "       [ 3.84353288],\n",
       "       [ 3.60241459],\n",
       "       [ 3.120178  ],\n",
       "       [ 3.44166906],\n",
       "       [ 5.53136093],\n",
       "       [ 3.60241459],\n",
       "       [ 4.32576947],\n",
       "       [ 3.28092353],\n",
       "       [23.93672396],\n",
       "       [ 6.65657963],\n",
       "       [ 3.20055077],\n",
       "       [19.51622192],\n",
       "       [ 4.96875158],\n",
       "       [ 3.76316012],\n",
       "       [ 4.32576947],\n",
       "       [ 6.97807069],\n",
       "       [ 4.40614223],\n",
       "       [ 5.93322475],\n",
       "       [14.85460159],\n",
       "       [ 3.44166906],\n",
       "       [ 4.486515  ],\n",
       "       [ 3.28092353],\n",
       "       [ 3.68278735],\n",
       "       [ 3.3612963 ],\n",
       "       [ 4.40614223],\n",
       "       [ 5.04912435],\n",
       "       [12.52379143],\n",
       "       [ 3.44166906],\n",
       "       [ 6.17434305],\n",
       "       [ 3.120178  ],\n",
       "       [ 9.63037191],\n",
       "       [ 3.28092353],\n",
       "       [ 5.69210646],\n",
       "       [ 3.60241459],\n",
       "       [ 3.76316012],\n",
       "       [ 3.20055077],\n",
       "       [11.15745443],\n",
       "       [ 4.64726052],\n",
       "       [ 4.16502394],\n",
       "       [ 4.64726052],\n",
       "       [ 6.33508857],\n",
       "       [18.39100322],\n",
       "       [ 4.88837882],\n",
       "       [ 3.120178  ],\n",
       "       [ 3.120178  ],\n",
       "       [ 8.82664427],\n",
       "       [ 4.00427841],\n",
       "       [ 3.76316012],\n",
       "       [ 3.28092353],\n",
       "       [ 5.6117337 ],\n",
       "       [ 3.20055077],\n",
       "       [ 6.57620687],\n",
       "       [ 3.76316012],\n",
       "       [11.07708167],\n",
       "       [ 3.3612963 ],\n",
       "       [ 3.20055077],\n",
       "       [20.72181338],\n",
       "       [ 3.120178  ],\n",
       "       [ 3.44166906],\n",
       "       [ 3.3612963 ],\n",
       "       [ 9.8714902 ],\n",
       "       [ 4.16502394],\n",
       "       [ 3.76316012],\n",
       "       [10.75559061],\n",
       "       [ 3.20055077],\n",
       "       [ 8.82664427],\n",
       "       [10.27335403],\n",
       "       [ 3.20055077],\n",
       "       [ 6.41546134],\n",
       "       [ 7.70142557],\n",
       "       [ 4.16502394],\n",
       "       [ 3.20055077],\n",
       "       [ 6.4958341 ],\n",
       "       [ 4.486515  ],\n",
       "       [ 5.6117337 ],\n",
       "       [ 4.08465117],\n",
       "       [ 3.52204182],\n",
       "       [ 6.09397028],\n",
       "       [ 3.60241459],\n",
       "       [ 3.3612963 ],\n",
       "       [ 3.120178  ],\n",
       "       [19.1143581 ],\n",
       "       [ 3.44166906],\n",
       "       [ 5.04912435],\n",
       "       [ 3.20055077],\n",
       "       [ 3.3612963 ],\n",
       "       [17.58727558],\n",
       "       [ 8.26403492],\n",
       "       [ 3.68278735],\n",
       "       [ 9.22850809],\n",
       "       [ 4.40614223],\n",
       "       [ 4.72763329],\n",
       "       [ 3.3612963 ],\n",
       "       [ 3.76316012],\n",
       "       [ 3.20055077],\n",
       "       [11.88080931],\n",
       "       [ 3.28092353],\n",
       "       [ 3.84353288],\n",
       "       [ 5.20986987],\n",
       "       [ 4.00427841],\n",
       "       [ 3.44166906],\n",
       "       [23.05262355],\n",
       "       [ 3.20055077],\n",
       "       [ 3.20055077],\n",
       "       [ 3.44166906],\n",
       "       [ 4.80800605],\n",
       "       [ 3.20055077],\n",
       "       [10.75559061],\n",
       "       [ 6.57620687],\n",
       "       [ 3.44166906],\n",
       "       [ 3.76316012],\n",
       "       [ 3.120178  ],\n",
       "       [ 4.08465117],\n",
       "       [ 3.3612963 ],\n",
       "       [13.64901013],\n",
       "       [ 3.76316012],\n",
       "       [ 4.88837882],\n",
       "       [ 4.486515  ],\n",
       "       [ 3.120178  ],\n",
       "       [11.72006378],\n",
       "       [ 8.10328939],\n",
       "       [ 8.58552597],\n",
       "       [ 3.84353288],\n",
       "       [ 5.29024264],\n",
       "       [10.83596338],\n",
       "       [ 4.00427841],\n",
       "       [ 3.60241459],\n",
       "       [13.40789183],\n",
       "       [ 5.20986987],\n",
       "       [ 9.46962638],\n",
       "       [ 3.84353288],\n",
       "       [ 3.44166906],\n",
       "       [ 7.8621711 ],\n",
       "       [ 4.00427841],\n",
       "       [ 4.32576947],\n",
       "       [ 6.65657963],\n",
       "       [ 3.3612963 ],\n",
       "       [ 4.16502394],\n",
       "       [ 3.44166906],\n",
       "       [ 3.76316012],\n",
       "       [ 3.28092353],\n",
       "       [ 3.120178  ],\n",
       "       [ 3.3612963 ],\n",
       "       [ 3.60241459],\n",
       "       [ 3.92390565],\n",
       "       [ 4.2453967 ],\n",
       "       [ 5.04912435],\n",
       "       [ 7.21918898],\n",
       "       [ 3.44166906],\n",
       "       [ 3.28092353],\n",
       "       [ 3.52204182],\n",
       "       [23.05262355],\n",
       "       [ 9.14813533],\n",
       "       [ 6.7369524 ],\n",
       "       [ 3.20055077],\n",
       "       [ 3.44166906],\n",
       "       [ 3.68278735],\n",
       "       [ 6.09397028],\n",
       "       [ 3.76316012],\n",
       "       [ 3.84353288],\n",
       "       [ 3.52204182],\n",
       "       [ 3.44166906],\n",
       "       [10.1126085 ],\n",
       "       [12.76490972],\n",
       "       [ 3.120178  ],\n",
       "       [13.16677354],\n",
       "       [ 3.28092353],\n",
       "       [ 3.3612963 ],\n",
       "       [ 3.20055077],\n",
       "       [ 9.71074468],\n",
       "       [ 5.45098817],\n",
       "       [ 3.20055077],\n",
       "       [ 3.60241459],\n",
       "       [ 3.120178  ],\n",
       "       [ 3.120178  ],\n",
       "       [ 3.68278735],\n",
       "       [ 3.120178  ],\n",
       "       [ 3.120178  ],\n",
       "       [ 9.8714902 ],\n",
       "       [ 5.77247922],\n",
       "       [ 4.2453967 ],\n",
       "       [18.71249428],\n",
       "       [ 3.20055077],\n",
       "       [ 3.92390565],\n",
       "       [23.45448737],\n",
       "       [ 3.52204182],\n",
       "       [ 3.120178  ],\n",
       "       [ 8.02291662],\n",
       "       [11.63969102],\n",
       "       [ 4.88837882],\n",
       "       [ 4.08465117],\n",
       "       [ 9.14813533],\n",
       "       [22.97225078],\n",
       "       [ 3.60241459],\n",
       "       [ 3.76316012],\n",
       "       [ 3.68278735],\n",
       "       [ 7.29956175],\n",
       "       [ 3.120178  ],\n",
       "       [ 5.45098817],\n",
       "       [ 4.40614223],\n",
       "       [ 3.120178  ],\n",
       "       [20.31994956],\n",
       "       [ 3.28092353],\n",
       "       [ 4.08465117],\n",
       "       [ 3.3612963 ],\n",
       "       [ 8.58552597],\n",
       "       [ 4.56688776],\n",
       "       [ 3.68278735],\n",
       "       [ 3.92390565],\n",
       "       [ 3.84353288],\n",
       "       [ 4.64726052],\n",
       "       [12.1219276 ],\n",
       "       [ 5.45098817],\n",
       "       [ 4.00427841],\n",
       "       [ 3.52204182],\n",
       "       [18.47137598],\n",
       "       [19.51622192],\n",
       "       [ 3.20055077],\n",
       "       [ 5.20986987],\n",
       "       [11.07708167],\n",
       "       [ 3.84353288],\n",
       "       [ 4.72763329],\n",
       "       [ 5.45098817],\n",
       "       [ 8.42478045],\n",
       "       [ 7.13881622],\n",
       "       [ 3.120178  ],\n",
       "       [ 8.90701703],\n",
       "       [11.55931825],\n",
       "       [ 4.80800605],\n",
       "       [ 3.44166906],\n",
       "       [ 4.00427841],\n",
       "       [12.60416419],\n",
       "       [ 4.72763329],\n",
       "       [13.64901013],\n",
       "       [ 6.57620687],\n",
       "       [ 3.28092353],\n",
       "       [16.38168411],\n",
       "       [ 3.20055077],\n",
       "       [ 5.12949711],\n",
       "       [ 4.40614223],\n",
       "       [ 3.3612963 ],\n",
       "       [ 3.52204182],\n",
       "       [ 6.7369524 ],\n",
       "       [ 3.60241459],\n",
       "       [ 5.3706154 ],\n",
       "       [ 8.42478045],\n",
       "       [ 4.2453967 ],\n",
       "       [ 4.00427841],\n",
       "       [ 3.20055077],\n",
       "       [ 3.3612963 ],\n",
       "       [ 4.08465117],\n",
       "       [ 3.3612963 ],\n",
       "       [ 3.20055077],\n",
       "       [ 3.68278735],\n",
       "       [ 5.20986987],\n",
       "       [ 9.95186297],\n",
       "       [ 9.54999915],\n",
       "       [ 3.60241459],\n",
       "       [ 3.3612963 ],\n",
       "       [ 3.76316012],\n",
       "       [12.04155484],\n",
       "       [27.07126176],\n",
       "       [ 5.20986987],\n",
       "       [ 3.120178  ],\n",
       "       [ 3.44166906],\n",
       "       [14.05087395],\n",
       "       [ 3.28092353],\n",
       "       [25.78529753],\n",
       "       [ 6.09397028],\n",
       "       [ 3.28092353],\n",
       "       [ 3.52204182],\n",
       "       [ 3.52204182],\n",
       "       [ 3.28092353],\n",
       "       [ 4.32576947],\n",
       "       [ 7.29956175],\n",
       "       [ 3.28092353],\n",
       "       [10.35372679],\n",
       "       [ 3.3612963 ],\n",
       "       [ 5.20986987],\n",
       "       [ 4.486515  ],\n",
       "       [ 5.20986987],\n",
       "       [ 3.120178  ],\n",
       "       [ 4.486515  ],\n",
       "       [ 3.28092353],\n",
       "       [ 5.29024264],\n",
       "       [ 3.3612963 ],\n",
       "       [ 6.17434305],\n",
       "       [ 3.3612963 ],\n",
       "       [ 3.20055077],\n",
       "       [ 3.120178  ],\n",
       "       [ 6.17434305],\n",
       "       [24.82082436],\n",
       "       [ 4.08465117],\n",
       "       [ 4.08465117],\n",
       "       [ 7.29956175],\n",
       "       [ 3.68278735],\n",
       "       [ 3.120178  ],\n",
       "       [ 4.72763329],\n",
       "       [ 3.28092353],\n",
       "       [12.84528248],\n",
       "       [ 3.20055077],\n",
       "       [ 4.08465117],\n",
       "       [ 7.6210528 ],\n",
       "       [ 4.96875158],\n",
       "       [ 3.20055077],\n",
       "       [ 3.76316012],\n",
       "       [ 3.120178  ],\n",
       "       [ 4.16502394],\n",
       "       [ 4.08465117],\n",
       "       [ 3.20055077],\n",
       "       [ 4.96875158],\n",
       "       [ 3.20055077],\n",
       "       [ 8.02291662],\n",
       "       [12.68453695],\n",
       "       [ 4.96875158],\n",
       "       [ 3.28092353],\n",
       "       [ 3.20055077],\n",
       "       [ 3.44166906],\n",
       "       [ 8.7462715 ],\n",
       "       [ 5.53136093],\n",
       "       [ 4.88837882],\n",
       "       [ 3.92390565],\n",
       "       [ 4.00427841],\n",
       "       [ 3.20055077],\n",
       "       [ 3.3612963 ],\n",
       "       [ 4.40614223],\n",
       "       [ 9.38925362],\n",
       "       [ 3.120178  ],\n",
       "       [ 3.28092353],\n",
       "       [ 4.16502394],\n",
       "       [ 3.120178  ],\n",
       "       [ 3.20055077],\n",
       "       [ 6.65657963],\n",
       "       [ 5.69210646],\n",
       "       [ 3.44166906],\n",
       "       [ 4.2453967 ],\n",
       "       [ 3.3612963 ],\n",
       "       [ 3.76316012],\n",
       "       [ 3.52204182],\n",
       "       [ 3.120178  ],\n",
       "       [ 3.120178  ],\n",
       "       [ 3.92390565],\n",
       "       [ 3.44166906],\n",
       "       [25.22268818],\n",
       "       [ 3.44166906],\n",
       "       [ 3.20055077],\n",
       "       [ 3.20055077],\n",
       "       [ 4.88837882],\n",
       "       [ 4.32576947],\n",
       "       [ 3.3612963 ],\n",
       "       [ 3.68278735],\n",
       "       [ 3.28092353],\n",
       "       [15.81907476],\n",
       "       [ 3.120178  ],\n",
       "       [ 3.28092353],\n",
       "       [ 3.20055077],\n",
       "       [ 3.76316012],\n",
       "       [ 8.58552597],\n",
       "       [ 5.3706154 ],\n",
       "       [ 3.120178  ],\n",
       "       [15.738702  ],\n",
       "       [ 7.13881622],\n",
       "       [ 3.3612963 ],\n",
       "       [ 4.96875158],\n",
       "       [11.96118208],\n",
       "       [ 9.30888085],\n",
       "       [ 3.20055077],\n",
       "       [ 3.20055077],\n",
       "       [ 3.84353288],\n",
       "       [23.45448737],\n",
       "       [ 3.84353288],\n",
       "       [ 3.52204182],\n",
       "       [ 6.25471581],\n",
       "       [ 4.72763329],\n",
       "       [ 4.00427841],\n",
       "       [ 8.18366215],\n",
       "       [ 4.2453967 ],\n",
       "       [10.75559061],\n",
       "       [ 4.40614223],\n",
       "       [ 3.20055077],\n",
       "       [ 3.120178  ],\n",
       "       [ 3.28092353],\n",
       "       [ 3.120178  ],\n",
       "       [ 3.120178  ],\n",
       "       [ 4.80800605],\n",
       "       [ 3.120178  ],\n",
       "       [ 7.37993451],\n",
       "       [ 6.7369524 ],\n",
       "       [ 3.92390565],\n",
       "       [ 6.09397028],\n",
       "       [ 5.3706154 ],\n",
       "       [ 3.28092353],\n",
       "       [ 4.16502394],\n",
       "       [ 3.28092353],\n",
       "       [ 3.28092353],\n",
       "       [18.71249428],\n",
       "       [ 4.32576947],\n",
       "       [ 5.3706154 ],\n",
       "       [ 3.68278735],\n",
       "       [ 7.46030727],\n",
       "       [ 3.120178  ],\n",
       "       [ 4.16502394],\n",
       "       [ 3.3612963 ],\n",
       "       [ 8.26403492],\n",
       "       [ 4.72763329],\n",
       "       [ 3.3612963 ],\n",
       "       [ 5.85285199],\n",
       "       [ 3.28092353],\n",
       "       [ 3.44166906],\n",
       "       [ 3.44166906],\n",
       "       [ 3.76316012],\n",
       "       [ 3.92390565],\n",
       "       [12.52379143],\n",
       "       [ 3.20055077],\n",
       "       [16.30131135],\n",
       "       [ 3.120178  ],\n",
       "       [ 3.60241459],\n",
       "       [ 4.2453967 ],\n",
       "       [ 3.120178  ],\n",
       "       [ 4.2453967 ],\n",
       "       [ 4.56688776],\n",
       "       [ 5.29024264],\n",
       "       [ 3.3612963 ],\n",
       "       [ 3.120178  ],\n",
       "       [18.71249428],\n",
       "       [ 6.7369524 ],\n",
       "       [21.52554103],\n",
       "       [ 3.3612963 ],\n",
       "       [ 3.76316012],\n",
       "       [ 3.3612963 ],\n",
       "       [10.35372679],\n",
       "       [ 3.44166906],\n",
       "       [ 3.60241459],\n",
       "       [ 3.76316012],\n",
       "       [ 5.45098817],\n",
       "       [ 3.120178  ],\n",
       "       [ 3.120178  ],\n",
       "       [ 3.84353288],\n",
       "       [ 3.3612963 ],\n",
       "       [ 5.04912435],\n",
       "       [22.57038696],\n",
       "       [ 4.08465117],\n",
       "       [ 3.52204182],\n",
       "       [ 4.2453967 ],\n",
       "       [ 3.92390565],\n",
       "       [ 8.26403492],\n",
       "       [ 3.3612963 ],\n",
       "       [ 5.77247922],\n",
       "       [ 5.6117337 ],\n",
       "       [14.29199224],\n",
       "       [ 9.54999915],\n",
       "       [ 4.40614223],\n",
       "       [ 4.40614223],\n",
       "       [ 4.88837882],\n",
       "       [ 3.44166906],\n",
       "       [14.45273777],\n",
       "       [ 4.88837882],\n",
       "       [ 5.77247922],\n",
       "       [ 3.20055077],\n",
       "       [ 3.92390565],\n",
       "       [ 3.120178  ],\n",
       "       [ 3.60241459],\n",
       "       [ 4.00427841],\n",
       "       [ 4.16502394],\n",
       "       [ 6.89769792],\n",
       "       [ 3.120178  ],\n",
       "       [ 3.28092353],\n",
       "       [ 3.76316012],\n",
       "       [ 4.64726052],\n",
       "       [ 4.96875158],\n",
       "       [ 4.16502394],\n",
       "       [ 3.3612963 ],\n",
       "       [ 5.3706154 ],\n",
       "       [ 3.92390565],\n",
       "       [ 4.2453967 ],\n",
       "       [ 3.60241459],\n",
       "       [ 4.2453967 ],\n",
       "       [ 3.44166906],\n",
       "       [ 3.28092353],\n",
       "       [ 5.29024264],\n",
       "       [ 3.44166906],\n",
       "       [ 6.65657963],\n",
       "       [ 3.120178  ],\n",
       "       [ 3.120178  ],\n",
       "       [ 6.09397028],\n",
       "       [ 6.81732516],\n",
       "       [ 3.60241459],\n",
       "       [ 3.3612963 ],\n",
       "       [ 6.09397028],\n",
       "       [ 7.70142557],\n",
       "       [ 3.60241459],\n",
       "       [ 3.120178  ],\n",
       "       [ 3.20055077],\n",
       "       [ 4.72763329],\n",
       "       [ 9.8714902 ],\n",
       "       [23.13299631],\n",
       "       [ 6.97807069],\n",
       "       [ 5.3706154 ],\n",
       "       [ 3.120178  ],\n",
       "       [ 3.84353288],\n",
       "       [ 3.20055077],\n",
       "       [ 3.60241459],\n",
       "       [ 3.76316012],\n",
       "       [ 4.486515  ],\n",
       "       [ 4.00427841],\n",
       "       [ 3.84353288],\n",
       "       [ 3.52204182],\n",
       "       [ 3.3612963 ],\n",
       "       [ 4.2453967 ],\n",
       "       [ 3.28092353],\n",
       "       [ 5.53136093],\n",
       "       [ 3.92390565],\n",
       "       [ 3.92390565],\n",
       "       [ 3.44166906],\n",
       "       [ 3.68278735],\n",
       "       [ 3.120178  ],\n",
       "       [ 5.77247922],\n",
       "       [15.4975837 ],\n",
       "       [ 5.69210646],\n",
       "       [ 3.60241459],\n",
       "       [ 4.80800605],\n",
       "       [ 3.68278735],\n",
       "       [ 4.96875158],\n",
       "       [ 3.68278735],\n",
       "       [ 8.10328939],\n",
       "       [ 3.120178  ],\n",
       "       [ 8.58552597]])"
      ]
     },
     "execution_count": 41,
     "metadata": {},
     "output_type": "execute_result"
    }
   ],
   "source": [
    "y_predicted"
   ]
  },
  {
   "cell_type": "code",
   "execution_count": 42,
   "id": "40e83b07",
   "metadata": {},
   "outputs": [
    {
     "data": {
      "text/html": [
       "<div>\n",
       "<style scoped>\n",
       "    .dataframe tbody tr th:only-of-type {\n",
       "        vertical-align: middle;\n",
       "    }\n",
       "\n",
       "    .dataframe tbody tr th {\n",
       "        vertical-align: top;\n",
       "    }\n",
       "\n",
       "    .dataframe thead th {\n",
       "        text-align: right;\n",
       "    }\n",
       "</style>\n",
       "<table border=\"1\" class=\"dataframe\">\n",
       "  <thead>\n",
       "    <tr style=\"text-align: right;\">\n",
       "      <th></th>\n",
       "      <th>Actual</th>\n",
       "      <th>Predicted</th>\n",
       "    </tr>\n",
       "  </thead>\n",
       "  <tbody>\n",
       "    <tr>\n",
       "      <th>0</th>\n",
       "      <td>5</td>\n",
       "      <td>4.004278</td>\n",
       "    </tr>\n",
       "    <tr>\n",
       "      <th>1</th>\n",
       "      <td>3</td>\n",
       "      <td>3.280924</td>\n",
       "    </tr>\n",
       "    <tr>\n",
       "      <th>2</th>\n",
       "      <td>8</td>\n",
       "      <td>7.621053</td>\n",
       "    </tr>\n",
       "    <tr>\n",
       "      <th>3</th>\n",
       "      <td>2</td>\n",
       "      <td>4.165024</td>\n",
       "    </tr>\n",
       "    <tr>\n",
       "      <th>4</th>\n",
       "      <td>1</td>\n",
       "      <td>3.280924</td>\n",
       "    </tr>\n",
       "    <tr>\n",
       "      <th>5</th>\n",
       "      <td>1</td>\n",
       "      <td>3.682787</td>\n",
       "    </tr>\n",
       "    <tr>\n",
       "      <th>6</th>\n",
       "      <td>15</td>\n",
       "      <td>12.202300</td>\n",
       "    </tr>\n",
       "    <tr>\n",
       "      <th>7</th>\n",
       "      <td>3</td>\n",
       "      <td>3.522042</td>\n",
       "    </tr>\n",
       "    <tr>\n",
       "      <th>8</th>\n",
       "      <td>3</td>\n",
       "      <td>3.522042</td>\n",
       "    </tr>\n",
       "    <tr>\n",
       "      <th>9</th>\n",
       "      <td>5</td>\n",
       "      <td>4.165024</td>\n",
       "    </tr>\n",
       "    <tr>\n",
       "      <th>10</th>\n",
       "      <td>1</td>\n",
       "      <td>3.200551</td>\n",
       "    </tr>\n",
       "    <tr>\n",
       "      <th>11</th>\n",
       "      <td>9</td>\n",
       "      <td>3.763160</td>\n",
       "    </tr>\n",
       "    <tr>\n",
       "      <th>12</th>\n",
       "      <td>6</td>\n",
       "      <td>4.245397</td>\n",
       "    </tr>\n",
       "    <tr>\n",
       "      <th>13</th>\n",
       "      <td>13</td>\n",
       "      <td>6.576207</td>\n",
       "    </tr>\n",
       "    <tr>\n",
       "      <th>14</th>\n",
       "      <td>3</td>\n",
       "      <td>6.978071</td>\n",
       "    </tr>\n",
       "    <tr>\n",
       "      <th>15</th>\n",
       "      <td>20</td>\n",
       "      <td>21.204050</td>\n",
       "    </tr>\n",
       "    <tr>\n",
       "      <th>16</th>\n",
       "      <td>1</td>\n",
       "      <td>3.843533</td>\n",
       "    </tr>\n",
       "    <tr>\n",
       "      <th>17</th>\n",
       "      <td>1</td>\n",
       "      <td>3.200551</td>\n",
       "    </tr>\n",
       "    <tr>\n",
       "      <th>18</th>\n",
       "      <td>27</td>\n",
       "      <td>10.434100</td>\n",
       "    </tr>\n",
       "    <tr>\n",
       "      <th>19</th>\n",
       "      <td>17</td>\n",
       "      <td>14.372365</td>\n",
       "    </tr>\n",
       "    <tr>\n",
       "      <th>20</th>\n",
       "      <td>3</td>\n",
       "      <td>3.361296</td>\n",
       "    </tr>\n",
       "    <tr>\n",
       "      <th>21</th>\n",
       "      <td>2</td>\n",
       "      <td>3.602415</td>\n",
       "    </tr>\n",
       "    <tr>\n",
       "      <th>22</th>\n",
       "      <td>3</td>\n",
       "      <td>3.441669</td>\n",
       "    </tr>\n",
       "    <tr>\n",
       "      <th>23</th>\n",
       "      <td>3</td>\n",
       "      <td>5.370615</td>\n",
       "    </tr>\n",
       "    <tr>\n",
       "      <th>24</th>\n",
       "      <td>5</td>\n",
       "      <td>3.602415</td>\n",
       "    </tr>\n",
       "    <tr>\n",
       "      <th>25</th>\n",
       "      <td>3</td>\n",
       "      <td>3.280924</td>\n",
       "    </tr>\n",
       "    <tr>\n",
       "      <th>26</th>\n",
       "      <td>3</td>\n",
       "      <td>4.808006</td>\n",
       "    </tr>\n",
       "    <tr>\n",
       "      <th>27</th>\n",
       "      <td>4</td>\n",
       "      <td>3.682787</td>\n",
       "    </tr>\n",
       "    <tr>\n",
       "      <th>28</th>\n",
       "      <td>1</td>\n",
       "      <td>3.120178</td>\n",
       "    </tr>\n",
       "    <tr>\n",
       "      <th>29</th>\n",
       "      <td>20</td>\n",
       "      <td>4.325769</td>\n",
       "    </tr>\n",
       "  </tbody>\n",
       "</table>\n",
       "</div>"
      ],
      "text/plain": [
       "    Actual  Predicted\n",
       "0        5   4.004278\n",
       "1        3   3.280924\n",
       "2        8   7.621053\n",
       "3        2   4.165024\n",
       "4        1   3.280924\n",
       "5        1   3.682787\n",
       "6       15  12.202300\n",
       "7        3   3.522042\n",
       "8        3   3.522042\n",
       "9        5   4.165024\n",
       "10       1   3.200551\n",
       "11       9   3.763160\n",
       "12       6   4.245397\n",
       "13      13   6.576207\n",
       "14       3   6.978071\n",
       "15      20  21.204050\n",
       "16       1   3.843533\n",
       "17       1   3.200551\n",
       "18      27  10.434100\n",
       "19      17  14.372365\n",
       "20       3   3.361296\n",
       "21       2   3.602415\n",
       "22       3   3.441669\n",
       "23       3   5.370615\n",
       "24       5   3.602415\n",
       "25       3   3.280924\n",
       "26       3   4.808006\n",
       "27       4   3.682787\n",
       "28       1   3.120178\n",
       "29      20   4.325769"
      ]
     },
     "execution_count": 42,
     "metadata": {},
     "output_type": "execute_result"
    }
   ],
   "source": [
    "# Create a dataframe comparing the actual and predicted values of y\n",
    "data = pd.DataFrame({'Actual': y_test.flatten(), 'Predicted': y_predicted.flatten()})\n",
    "data.head(30)"
   ]
  },
  {
   "cell_type": "code",
   "execution_count": 43,
   "id": "bc77682f",
   "metadata": {},
   "outputs": [],
   "source": [
    "# Check how well the model fits the training set\n",
    "y_predicted_train = regression.predict(X_train)"
   ]
  },
  {
   "cell_type": "code",
   "execution_count": 44,
   "id": "e84bf979",
   "metadata": {},
   "outputs": [],
   "source": [
    "rmse = mean_squared_error(y_train, y_predicted_train)\n",
    "r2 = r2_score(y_train, y_predicted_train)"
   ]
  },
  {
   "cell_type": "code",
   "execution_count": 45,
   "id": "fda058c8",
   "metadata": {},
   "outputs": [
    {
     "name": "stdout",
     "output_type": "stream",
     "text": [
      "Slope: [[0.08037276]]\n",
      "Mean squared error:  20.835860736261015\n",
      "R2 score:  0.44627537740106293\n"
     ]
    }
   ],
   "source": [
    "print('Slope:' ,regression.coef_)\n",
    "print('Mean squared error: ', rmse)\n",
    "print('R2 score: ', r2)"
   ]
  },
  {
   "cell_type": "code",
   "execution_count": 46,
   "id": "869cae96",
   "metadata": {},
   "outputs": [
    {
     "data": {
      "image/png": "[encoded data removed]",
      "text/plain": [
       "<Figure size 640x480 with 1 Axes>"
      ]
     },
     "metadata": {},
     "output_type": "display_data"
    }
   ],
   "source": [
    "# Visualizing the training set results.\n",
    "\n",
    "plot_test = plt\n",
    "plot_test.scatter(X_train, y_train, color='grey', s = 15)\n",
    "plot_test.plot(X_train, y_predicted_train, color='blue', linewidth =3)\n",
    "plot_test.title('Assisted Housing vs Gun Violence (Training Set)')\n",
    "plot_test.xlabel('Incidence of Gun Violence')\n",
    "plot_test.ylabel('Count of Multifamily Assisted Housing Properties')\n",
    "plot_test.show()"
   ]
  },
  {
   "cell_type": "markdown",
   "id": "d3f7e754",
   "metadata": {},
   "source": [
    "## 5.9 Reflection on performance"
   ]
  },
  {
   "cell_type": "markdown",
   "id": "bcebcf43",
   "metadata": {},
   "source": [
    "__While there is a definite strong positive correlation between the number of multifamily assisted housing properties and the incidents of gun violence at the county-level in the U.S. a linear regression is not the right method for predicting the influence of this relationship.  There are clearly other factors to consider, and I believe that a multiple regression model is likely necessary to more accurately predict the function of the relationship between the variables of the count of multifamily assisted housing properties and the incidence of gun violence in the U.S.__"
   ]
  },
  {
   "cell_type": "code",
   "execution_count": null,
   "id": "e10c6c01",
   "metadata": {},
   "outputs": [],
   "source": []
  }
 ],
 "metadata": {
  "kernelspec": {
   "display_name": "Python 3 (ipykernel)",
   "language": "python",
   "name": "python3"
  },
  "language_info": {
   "codemirror_mode": {
    "name": "ipython",
    "version": 3
   },
   "file_extension": ".py",
   "mimetype": "text/x-python",
   "name": "python",
   "nbconvert_exporter": "python",
   "pygments_lexer": "ipython3",
   "version": "3.9.13"
  }
 },
 "nbformat": 4,
 "nbformat_minor": 5
}
